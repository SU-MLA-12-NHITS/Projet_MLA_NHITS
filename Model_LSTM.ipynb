{
  "nbformat": 4,
  "nbformat_minor": 0,
  "metadata": {
    "colab": {
      "provenance": []
    },
    "kernelspec": {
      "name": "python3",
      "display_name": "Python 3"
    },
    "language_info": {
      "name": "python"
    }
  },
  "cells": [
    {
      "cell_type": "code",
      "execution_count": 1,
      "metadata": {
        "id": "ff7mHDJbDLFw"
      },
      "outputs": [],
      "source": [
        "import torch.nn as nn\n",
        "import torch.nn.functional as F\n",
        "\n",
        "\n",
        "class NHITSBlock(nn.Module):\n",
        "    def __init__(self, input_steps, input_size, output_size, hidden_size):\n",
        "        super(NHITSBlock, self).__init__()\n",
        "        self.input_steps = input_steps\n",
        "        self.input_size = input_size\n",
        "        self.output_size = output_size\n",
        "\n",
        "        # Fully connected layers\n",
        "        self.fc1 = nn.Linear(input_steps * input_size, hidden_size)  # Flattened input\n",
        "        self.fc2 = nn.Linear(hidden_size, hidden_size)\n",
        "        self.fc_out = nn.Linear(hidden_size, output_size)\n",
        "\n",
        "    def forward(self, x):\n",
        "        # Flatten the input: (batch_size, input_steps, input_size) -> (batch_size, input_steps * input_size)\n",
        "        x = x.view(x.size(0), -1)  # Flatten the input\n",
        "        x = F.relu(self.fc1(x))\n",
        "        x = F.relu(self.fc2(x))\n",
        "        output = self.fc_out(x)\n",
        "        return output"
      ]
    },
    {
      "cell_type": "code",
      "source": [
        "#Simple task model\n",
        "\"\"\"class NHITSModel(nn.Module):\n",
        "    def __init__(self, input_size, output_size, hidden_size, input_steps, num_blocks):\n",
        "        super(NHITSModel, self).__init__()\n",
        "        self.num_blocks = num_blocks\n",
        "        self.blocks = nn.ModuleList([\n",
        "            NHITSBlock(input_size, output_size, hidden_size, input_steps)\n",
        "            for _ in range(num_blocks)\n",
        "        ])\n",
        "\n",
        "    def forward(self, x):\n",
        "        for block in self.blocks:\n",
        "            x = block(x)  # Forward pass through each NHITS block\n",
        "        return x\"\"\""
      ],
      "metadata": {
        "colab": {
          "base_uri": "https://localhost:8080/",
          "height": 70
        },
        "id": "m_qxFT60GtK2",
        "outputId": "eeb3d44e-7d51-477a-ef34-7dd445fb7427"
      },
      "execution_count": 2,
      "outputs": [
        {
          "output_type": "execute_result",
          "data": {
            "text/plain": [
              "'class NHITSModel(nn.Module):\\n    def __init__(self, input_size, output_size, hidden_size, input_steps, num_blocks):\\n        super(NHITSModel, self).__init__()\\n        self.num_blocks = num_blocks\\n        self.blocks = nn.ModuleList([\\n            NHITSBlock(input_size, output_size, hidden_size, input_steps)\\n            for _ in range(num_blocks)\\n        ])\\n\\n    def forward(self, x):\\n        for block in self.blocks:\\n            x = block(x)  # Forward pass through each NHITS block\\n        return x'"
            ],
            "application/vnd.google.colaboratory.intrinsic+json": {
              "type": "string"
            }
          },
          "metadata": {},
          "execution_count": 2
        }
      ]
    },
    {
      "cell_type": "code",
      "source": [
        "#RESIDUAL MODEL\n",
        "class NHITS(nn.Module):\n",
        "    def __init__(self, input_steps, input_size, output_size, hidden_size, num_stacks):\n",
        "        super(NHITS, self).__init__()\n",
        "        self.num_stacks = num_stacks\n",
        "        self.input_steps = input_steps\n",
        "        self.input_size = input_size\n",
        "        self.output_size = output_size\n",
        "\n",
        "        # Create multiple NHITS blocks\n",
        "        self.blocks = nn.ModuleList([\n",
        "            NHITSBlock(input_steps, input_size, output_size, hidden_size) for _ in range(num_stacks)\n",
        "        ])\n",
        "\n",
        "        # Projection layer to map residuals back to input_size\n",
        "        self.projection = nn.Linear(output_size, input_size)\n",
        "\n",
        "    def forward(self, x):\n",
        "        # Initialize residual as input\n",
        "        residual = x\n",
        "        forecasts = []\n",
        "\n",
        "        for block in self.blocks:\n",
        "            # Predict using the block\n",
        "            forecast = block(residual)\n",
        "            forecasts.append(forecast)\n",
        "\n",
        "            # Update residual and project it back to input size\n",
        "            residual_update = self.projection(forecast)\n",
        "\n",
        "            # Expand the residual_update to match the shape of residual (broadcasting)\n",
        "            residual_update_expanded = residual_update.unsqueeze(1).expand_as(residual)\n",
        "            residual = residual - residual_update_expanded\n",
        "\n",
        "        # Combine all forecasts\n",
        "        final_forecast = sum(forecasts)\n",
        "        return final_forecast"
      ],
      "metadata": {
        "id": "GCVuYrjtGzx7"
      },
      "execution_count": 2,
      "outputs": []
    }
  ]
}