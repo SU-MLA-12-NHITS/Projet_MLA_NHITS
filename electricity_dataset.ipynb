{
  "nbformat": 4,
  "nbformat_minor": 0,
  "metadata": {
    "colab": {
      "provenance": []
    },
    "kernelspec": {
      "name": "python3",
      "display_name": "Python 3"
    },
    "language_info": {
      "name": "python"
    }
  },
  "cells": [
    {
      "cell_type": "markdown",
      "source": [
        "# Libraries"
      ],
      "metadata": {
        "id": "BPJweoSSqv_N"
      }
    },
    {
      "cell_type": "code",
      "execution_count": 36,
      "metadata": {
        "id": "vTgt3Vf4qYkK"
      },
      "outputs": [],
      "source": [
        "import numpy as np\n",
        "import pandas as pd\n",
        "import matplotlib.pyplot as plt\n",
        "from sklearn.preprocessing import MinMaxScaler\n",
        "from sklearn.model_selection import train_test_split\n",
        "\n",
        "\n",
        "import torch\n",
        "from torch.utils.data import Dataset, DataLoader\n",
        "import torch.nn as nn\n",
        "import torch.nn.functional as F"
      ]
    },
    {
      "cell_type": "markdown",
      "source": [
        "# Loading the dataset"
      ],
      "metadata": {
        "id": "866-Flwgq3OD"
      }
    },
    {
      "cell_type": "code",
      "source": [
        "df = pd.read_csv('/content/electricity.csv', header=0)\n",
        "df.describe()\n",
        "df.head()"
      ],
      "metadata": {
        "colab": {
          "base_uri": "https://localhost:8080/",
          "height": 236
        },
        "collapsed": true,
        "id": "0M5WlFgvq8Oe",
        "outputId": "8542aff3-6742-4f25-b7b8-8d17920fea9e"
      },
      "execution_count": 86,
      "outputs": [
        {
          "output_type": "execute_result",
          "data": {
            "text/plain": [
              "                  date     0     1      2      3      4       5     6       7  \\\n",
              "0  2016-07-01 02:00:00  14.0  69.0  234.0  415.0  215.0  1056.0  29.0   840.0   \n",
              "1  2016-07-01 03:00:00  18.0  92.0  312.0  556.0  292.0  1363.0  29.0  1102.0   \n",
              "2  2016-07-01 04:00:00  21.0  96.0  312.0  560.0  272.0  1240.0  29.0  1025.0   \n",
              "3  2016-07-01 05:00:00  20.0  92.0  312.0  443.0  213.0   845.0  24.0   833.0   \n",
              "4  2016-07-01 06:00:00  22.0  91.0  312.0  346.0  190.0   647.0  16.0   733.0   \n",
              "\n",
              "       8  ...    311    312      313     314     315   316   317     318  \\\n",
              "0  226.0  ...  676.0  372.0  80100.0  4719.0  5002.0  48.0  38.0  1558.0   \n",
              "1  271.0  ...  805.0  452.0  95200.0  4643.0  6617.0  65.0  47.0  2177.0   \n",
              "2  270.0  ...  817.0  430.0  96600.0  4285.0  6571.0  64.0  43.0  2193.0   \n",
              "3  179.0  ...  801.0  291.0  94500.0  4222.0  6365.0  65.0  39.0  1315.0   \n",
              "4  186.0  ...  807.0  279.0  91300.0  4116.0  6298.0  75.0  40.0  1378.0   \n",
              "\n",
              "     319      OT  \n",
              "0  182.0  2162.0  \n",
              "1  253.0  2835.0  \n",
              "2  218.0  2764.0  \n",
              "3  195.0  2735.0  \n",
              "4  191.0  2721.0  \n",
              "\n",
              "[5 rows x 322 columns]"
            ],
            "text/html": [
              "\n",
              "  <div id=\"df-4146b2aa-19b2-49ec-8474-337029877fa7\" class=\"colab-df-container\">\n",
              "    <div>\n",
              "<style scoped>\n",
              "    .dataframe tbody tr th:only-of-type {\n",
              "        vertical-align: middle;\n",
              "    }\n",
              "\n",
              "    .dataframe tbody tr th {\n",
              "        vertical-align: top;\n",
              "    }\n",
              "\n",
              "    .dataframe thead th {\n",
              "        text-align: right;\n",
              "    }\n",
              "</style>\n",
              "<table border=\"1\" class=\"dataframe\">\n",
              "  <thead>\n",
              "    <tr style=\"text-align: right;\">\n",
              "      <th></th>\n",
              "      <th>date</th>\n",
              "      <th>0</th>\n",
              "      <th>1</th>\n",
              "      <th>2</th>\n",
              "      <th>3</th>\n",
              "      <th>4</th>\n",
              "      <th>5</th>\n",
              "      <th>6</th>\n",
              "      <th>7</th>\n",
              "      <th>8</th>\n",
              "      <th>...</th>\n",
              "      <th>311</th>\n",
              "      <th>312</th>\n",
              "      <th>313</th>\n",
              "      <th>314</th>\n",
              "      <th>315</th>\n",
              "      <th>316</th>\n",
              "      <th>317</th>\n",
              "      <th>318</th>\n",
              "      <th>319</th>\n",
              "      <th>OT</th>\n",
              "    </tr>\n",
              "  </thead>\n",
              "  <tbody>\n",
              "    <tr>\n",
              "      <th>0</th>\n",
              "      <td>2016-07-01 02:00:00</td>\n",
              "      <td>14.0</td>\n",
              "      <td>69.0</td>\n",
              "      <td>234.0</td>\n",
              "      <td>415.0</td>\n",
              "      <td>215.0</td>\n",
              "      <td>1056.0</td>\n",
              "      <td>29.0</td>\n",
              "      <td>840.0</td>\n",
              "      <td>226.0</td>\n",
              "      <td>...</td>\n",
              "      <td>676.0</td>\n",
              "      <td>372.0</td>\n",
              "      <td>80100.0</td>\n",
              "      <td>4719.0</td>\n",
              "      <td>5002.0</td>\n",
              "      <td>48.0</td>\n",
              "      <td>38.0</td>\n",
              "      <td>1558.0</td>\n",
              "      <td>182.0</td>\n",
              "      <td>2162.0</td>\n",
              "    </tr>\n",
              "    <tr>\n",
              "      <th>1</th>\n",
              "      <td>2016-07-01 03:00:00</td>\n",
              "      <td>18.0</td>\n",
              "      <td>92.0</td>\n",
              "      <td>312.0</td>\n",
              "      <td>556.0</td>\n",
              "      <td>292.0</td>\n",
              "      <td>1363.0</td>\n",
              "      <td>29.0</td>\n",
              "      <td>1102.0</td>\n",
              "      <td>271.0</td>\n",
              "      <td>...</td>\n",
              "      <td>805.0</td>\n",
              "      <td>452.0</td>\n",
              "      <td>95200.0</td>\n",
              "      <td>4643.0</td>\n",
              "      <td>6617.0</td>\n",
              "      <td>65.0</td>\n",
              "      <td>47.0</td>\n",
              "      <td>2177.0</td>\n",
              "      <td>253.0</td>\n",
              "      <td>2835.0</td>\n",
              "    </tr>\n",
              "    <tr>\n",
              "      <th>2</th>\n",
              "      <td>2016-07-01 04:00:00</td>\n",
              "      <td>21.0</td>\n",
              "      <td>96.0</td>\n",
              "      <td>312.0</td>\n",
              "      <td>560.0</td>\n",
              "      <td>272.0</td>\n",
              "      <td>1240.0</td>\n",
              "      <td>29.0</td>\n",
              "      <td>1025.0</td>\n",
              "      <td>270.0</td>\n",
              "      <td>...</td>\n",
              "      <td>817.0</td>\n",
              "      <td>430.0</td>\n",
              "      <td>96600.0</td>\n",
              "      <td>4285.0</td>\n",
              "      <td>6571.0</td>\n",
              "      <td>64.0</td>\n",
              "      <td>43.0</td>\n",
              "      <td>2193.0</td>\n",
              "      <td>218.0</td>\n",
              "      <td>2764.0</td>\n",
              "    </tr>\n",
              "    <tr>\n",
              "      <th>3</th>\n",
              "      <td>2016-07-01 05:00:00</td>\n",
              "      <td>20.0</td>\n",
              "      <td>92.0</td>\n",
              "      <td>312.0</td>\n",
              "      <td>443.0</td>\n",
              "      <td>213.0</td>\n",
              "      <td>845.0</td>\n",
              "      <td>24.0</td>\n",
              "      <td>833.0</td>\n",
              "      <td>179.0</td>\n",
              "      <td>...</td>\n",
              "      <td>801.0</td>\n",
              "      <td>291.0</td>\n",
              "      <td>94500.0</td>\n",
              "      <td>4222.0</td>\n",
              "      <td>6365.0</td>\n",
              "      <td>65.0</td>\n",
              "      <td>39.0</td>\n",
              "      <td>1315.0</td>\n",
              "      <td>195.0</td>\n",
              "      <td>2735.0</td>\n",
              "    </tr>\n",
              "    <tr>\n",
              "      <th>4</th>\n",
              "      <td>2016-07-01 06:00:00</td>\n",
              "      <td>22.0</td>\n",
              "      <td>91.0</td>\n",
              "      <td>312.0</td>\n",
              "      <td>346.0</td>\n",
              "      <td>190.0</td>\n",
              "      <td>647.0</td>\n",
              "      <td>16.0</td>\n",
              "      <td>733.0</td>\n",
              "      <td>186.0</td>\n",
              "      <td>...</td>\n",
              "      <td>807.0</td>\n",
              "      <td>279.0</td>\n",
              "      <td>91300.0</td>\n",
              "      <td>4116.0</td>\n",
              "      <td>6298.0</td>\n",
              "      <td>75.0</td>\n",
              "      <td>40.0</td>\n",
              "      <td>1378.0</td>\n",
              "      <td>191.0</td>\n",
              "      <td>2721.0</td>\n",
              "    </tr>\n",
              "  </tbody>\n",
              "</table>\n",
              "<p>5 rows × 322 columns</p>\n",
              "</div>\n",
              "    <div class=\"colab-df-buttons\">\n",
              "\n",
              "  <div class=\"colab-df-container\">\n",
              "    <button class=\"colab-df-convert\" onclick=\"convertToInteractive('df-4146b2aa-19b2-49ec-8474-337029877fa7')\"\n",
              "            title=\"Convert this dataframe to an interactive table.\"\n",
              "            style=\"display:none;\">\n",
              "\n",
              "  <svg xmlns=\"http://www.w3.org/2000/svg\" height=\"24px\" viewBox=\"0 -960 960 960\">\n",
              "    <path d=\"M120-120v-720h720v720H120Zm60-500h600v-160H180v160Zm220 220h160v-160H400v160Zm0 220h160v-160H400v160ZM180-400h160v-160H180v160Zm440 0h160v-160H620v160ZM180-180h160v-160H180v160Zm440 0h160v-160H620v160Z\"/>\n",
              "  </svg>\n",
              "    </button>\n",
              "\n",
              "  <style>\n",
              "    .colab-df-container {\n",
              "      display:flex;\n",
              "      gap: 12px;\n",
              "    }\n",
              "\n",
              "    .colab-df-convert {\n",
              "      background-color: #E8F0FE;\n",
              "      border: none;\n",
              "      border-radius: 50%;\n",
              "      cursor: pointer;\n",
              "      display: none;\n",
              "      fill: #1967D2;\n",
              "      height: 32px;\n",
              "      padding: 0 0 0 0;\n",
              "      width: 32px;\n",
              "    }\n",
              "\n",
              "    .colab-df-convert:hover {\n",
              "      background-color: #E2EBFA;\n",
              "      box-shadow: 0px 1px 2px rgba(60, 64, 67, 0.3), 0px 1px 3px 1px rgba(60, 64, 67, 0.15);\n",
              "      fill: #174EA6;\n",
              "    }\n",
              "\n",
              "    .colab-df-buttons div {\n",
              "      margin-bottom: 4px;\n",
              "    }\n",
              "\n",
              "    [theme=dark] .colab-df-convert {\n",
              "      background-color: #3B4455;\n",
              "      fill: #D2E3FC;\n",
              "    }\n",
              "\n",
              "    [theme=dark] .colab-df-convert:hover {\n",
              "      background-color: #434B5C;\n",
              "      box-shadow: 0px 1px 3px 1px rgba(0, 0, 0, 0.15);\n",
              "      filter: drop-shadow(0px 1px 2px rgba(0, 0, 0, 0.3));\n",
              "      fill: #FFFFFF;\n",
              "    }\n",
              "  </style>\n",
              "\n",
              "    <script>\n",
              "      const buttonEl =\n",
              "        document.querySelector('#df-4146b2aa-19b2-49ec-8474-337029877fa7 button.colab-df-convert');\n",
              "      buttonEl.style.display =\n",
              "        google.colab.kernel.accessAllowed ? 'block' : 'none';\n",
              "\n",
              "      async function convertToInteractive(key) {\n",
              "        const element = document.querySelector('#df-4146b2aa-19b2-49ec-8474-337029877fa7');\n",
              "        const dataTable =\n",
              "          await google.colab.kernel.invokeFunction('convertToInteractive',\n",
              "                                                    [key], {});\n",
              "        if (!dataTable) return;\n",
              "\n",
              "        const docLinkHtml = 'Like what you see? Visit the ' +\n",
              "          '<a target=\"_blank\" href=https://colab.research.google.com/notebooks/data_table.ipynb>data table notebook</a>'\n",
              "          + ' to learn more about interactive tables.';\n",
              "        element.innerHTML = '';\n",
              "        dataTable['output_type'] = 'display_data';\n",
              "        await google.colab.output.renderOutput(dataTable, element);\n",
              "        const docLink = document.createElement('div');\n",
              "        docLink.innerHTML = docLinkHtml;\n",
              "        element.appendChild(docLink);\n",
              "      }\n",
              "    </script>\n",
              "  </div>\n",
              "\n",
              "\n",
              "<div id=\"df-8794d807-5880-4fe8-a45e-27f016a9c40f\">\n",
              "  <button class=\"colab-df-quickchart\" onclick=\"quickchart('df-8794d807-5880-4fe8-a45e-27f016a9c40f')\"\n",
              "            title=\"Suggest charts\"\n",
              "            style=\"display:none;\">\n",
              "\n",
              "<svg xmlns=\"http://www.w3.org/2000/svg\" height=\"24px\"viewBox=\"0 0 24 24\"\n",
              "     width=\"24px\">\n",
              "    <g>\n",
              "        <path d=\"M19 3H5c-1.1 0-2 .9-2 2v14c0 1.1.9 2 2 2h14c1.1 0 2-.9 2-2V5c0-1.1-.9-2-2-2zM9 17H7v-7h2v7zm4 0h-2V7h2v10zm4 0h-2v-4h2v4z\"/>\n",
              "    </g>\n",
              "</svg>\n",
              "  </button>\n",
              "\n",
              "<style>\n",
              "  .colab-df-quickchart {\n",
              "      --bg-color: #E8F0FE;\n",
              "      --fill-color: #1967D2;\n",
              "      --hover-bg-color: #E2EBFA;\n",
              "      --hover-fill-color: #174EA6;\n",
              "      --disabled-fill-color: #AAA;\n",
              "      --disabled-bg-color: #DDD;\n",
              "  }\n",
              "\n",
              "  [theme=dark] .colab-df-quickchart {\n",
              "      --bg-color: #3B4455;\n",
              "      --fill-color: #D2E3FC;\n",
              "      --hover-bg-color: #434B5C;\n",
              "      --hover-fill-color: #FFFFFF;\n",
              "      --disabled-bg-color: #3B4455;\n",
              "      --disabled-fill-color: #666;\n",
              "  }\n",
              "\n",
              "  .colab-df-quickchart {\n",
              "    background-color: var(--bg-color);\n",
              "    border: none;\n",
              "    border-radius: 50%;\n",
              "    cursor: pointer;\n",
              "    display: none;\n",
              "    fill: var(--fill-color);\n",
              "    height: 32px;\n",
              "    padding: 0;\n",
              "    width: 32px;\n",
              "  }\n",
              "\n",
              "  .colab-df-quickchart:hover {\n",
              "    background-color: var(--hover-bg-color);\n",
              "    box-shadow: 0 1px 2px rgba(60, 64, 67, 0.3), 0 1px 3px 1px rgba(60, 64, 67, 0.15);\n",
              "    fill: var(--button-hover-fill-color);\n",
              "  }\n",
              "\n",
              "  .colab-df-quickchart-complete:disabled,\n",
              "  .colab-df-quickchart-complete:disabled:hover {\n",
              "    background-color: var(--disabled-bg-color);\n",
              "    fill: var(--disabled-fill-color);\n",
              "    box-shadow: none;\n",
              "  }\n",
              "\n",
              "  .colab-df-spinner {\n",
              "    border: 2px solid var(--fill-color);\n",
              "    border-color: transparent;\n",
              "    border-bottom-color: var(--fill-color);\n",
              "    animation:\n",
              "      spin 1s steps(1) infinite;\n",
              "  }\n",
              "\n",
              "  @keyframes spin {\n",
              "    0% {\n",
              "      border-color: transparent;\n",
              "      border-bottom-color: var(--fill-color);\n",
              "      border-left-color: var(--fill-color);\n",
              "    }\n",
              "    20% {\n",
              "      border-color: transparent;\n",
              "      border-left-color: var(--fill-color);\n",
              "      border-top-color: var(--fill-color);\n",
              "    }\n",
              "    30% {\n",
              "      border-color: transparent;\n",
              "      border-left-color: var(--fill-color);\n",
              "      border-top-color: var(--fill-color);\n",
              "      border-right-color: var(--fill-color);\n",
              "    }\n",
              "    40% {\n",
              "      border-color: transparent;\n",
              "      border-right-color: var(--fill-color);\n",
              "      border-top-color: var(--fill-color);\n",
              "    }\n",
              "    60% {\n",
              "      border-color: transparent;\n",
              "      border-right-color: var(--fill-color);\n",
              "    }\n",
              "    80% {\n",
              "      border-color: transparent;\n",
              "      border-right-color: var(--fill-color);\n",
              "      border-bottom-color: var(--fill-color);\n",
              "    }\n",
              "    90% {\n",
              "      border-color: transparent;\n",
              "      border-bottom-color: var(--fill-color);\n",
              "    }\n",
              "  }\n",
              "</style>\n",
              "\n",
              "  <script>\n",
              "    async function quickchart(key) {\n",
              "      const quickchartButtonEl =\n",
              "        document.querySelector('#' + key + ' button');\n",
              "      quickchartButtonEl.disabled = true;  // To prevent multiple clicks.\n",
              "      quickchartButtonEl.classList.add('colab-df-spinner');\n",
              "      try {\n",
              "        const charts = await google.colab.kernel.invokeFunction(\n",
              "            'suggestCharts', [key], {});\n",
              "      } catch (error) {\n",
              "        console.error('Error during call to suggestCharts:', error);\n",
              "      }\n",
              "      quickchartButtonEl.classList.remove('colab-df-spinner');\n",
              "      quickchartButtonEl.classList.add('colab-df-quickchart-complete');\n",
              "    }\n",
              "    (() => {\n",
              "      let quickchartButtonEl =\n",
              "        document.querySelector('#df-8794d807-5880-4fe8-a45e-27f016a9c40f button');\n",
              "      quickchartButtonEl.style.display =\n",
              "        google.colab.kernel.accessAllowed ? 'block' : 'none';\n",
              "    })();\n",
              "  </script>\n",
              "</div>\n",
              "\n",
              "    </div>\n",
              "  </div>\n"
            ],
            "application/vnd.google.colaboratory.intrinsic+json": {
              "type": "dataframe",
              "variable_name": "df"
            }
          },
          "metadata": {},
          "execution_count": 86
        }
      ]
    },
    {
      "cell_type": "markdown",
      "source": [
        "### Exploring the role of OT"
      ],
      "metadata": {
        "id": "E744otG2wgKG"
      }
    },
    {
      "cell_type": "code",
      "source": [
        "# Exclude the 'date' column for correlation calculation\n",
        "numeric_columns = df.select_dtypes(include=['float64', 'int64'])\n",
        "correlations = numeric_columns.corr()['OT']  # Compute correlations with OT\n",
        "\n",
        "# Display top and lowest correlations\n",
        "print(\"Top Correlations with OT:\")\n",
        "print(correlations.sort_values(ascending=False).head(10))  # Top positive correlations\n",
        "print(\"\\nLowest Correlations with OT:\")\n",
        "print(correlations.sort_values().head(10))  # Top negative correlations"
      ],
      "metadata": {
        "colab": {
          "base_uri": "https://localhost:8080/"
        },
        "collapsed": true,
        "id": "hwU0OiR9wmgf",
        "outputId": "e95679cd-0b70-49f2-8177-e4a7a9e6d668"
      },
      "execution_count": 87,
      "outputs": [
        {
          "output_type": "stream",
          "name": "stdout",
          "text": [
            "Top Correlations with OT:\n",
            "OT     1.000000\n",
            "119    0.709113\n",
            "313    0.701160\n",
            "117    0.673972\n",
            "152    0.663269\n",
            "278    0.655860\n",
            "163    0.653981\n",
            "175    0.650548\n",
            "149    0.650249\n",
            "167    0.646461\n",
            "Name: OT, dtype: float64\n",
            "\n",
            "Lowest Correlations with OT:\n",
            "105   -0.508356\n",
            "107   -0.461668\n",
            "299   -0.376700\n",
            "106   -0.355740\n",
            "23    -0.103068\n",
            "27    -0.086448\n",
            "4     -0.055534\n",
            "2     -0.047713\n",
            "104   -0.047596\n",
            "66    -0.040822\n",
            "Name: OT, dtype: float64\n"
          ]
        }
      ]
    },
    {
      "cell_type": "markdown",
      "source": [
        "Observations about the dataset :\n",
        "\n",
        "--> columns :\n",
        "- The first column (date): Timestamp of each observation at an hourly frequency.\n",
        "- Columns 0 to 319: Hourly electricity consumption data for 320 entities.\n",
        "- Column OT : seems to be an external variable, it could serve as an additional feature to help the model learn patterns in electricity consumption based on the correlation results above.\n",
        "\n",
        "--> rows :  \n",
        "- Each row represents one hour's data for all entities."
      ],
      "metadata": {
        "id": "ufx9uhuivwYk"
      }
    },
    {
      "cell_type": "markdown",
      "source": [
        "# Data Preparation"
      ],
      "metadata": {
        "id": "vTcKdXhWzJdg"
      }
    },
    {
      "cell_type": "markdown",
      "source": [
        "### Convert date to datetime (important step to work on time series)"
      ],
      "metadata": {
        "id": "QVgZxWY6zS-R"
      }
    },
    {
      "cell_type": "code",
      "source": [
        "# Convert 'date' column to datetime format\n",
        "df['date'] = pd.to_datetime(df['date'], errors='coerce')\n",
        "\n",
        "# Check for conversion issues (e.g., invalid dates)\n",
        "invalid_dates = df['date'].isna().sum()\n",
        "print(f\"Number of invalid dates after conversion: {invalid_dates}\")"
      ],
      "metadata": {
        "colab": {
          "base_uri": "https://localhost:8080/"
        },
        "id": "z_5bAOLqzMw0",
        "outputId": "bbb97fa6-6e85-4dfd-b8de-e049151986d3"
      },
      "execution_count": 88,
      "outputs": [
        {
          "output_type": "stream",
          "name": "stdout",
          "text": [
            "Number of invalid dates after conversion: 0\n"
          ]
        }
      ]
    },
    {
      "cell_type": "markdown",
      "source": [
        "### Check for Duplicates"
      ],
      "metadata": {
        "id": "3NrziZ1x0Ce3"
      }
    },
    {
      "cell_type": "code",
      "source": [
        "# Check for duplicate timestamps\n",
        "duplicate_dates = df['date'].duplicated().sum()\n",
        "print(f\"Number of duplicate timestamps: {duplicate_dates}\")"
      ],
      "metadata": {
        "colab": {
          "base_uri": "https://localhost:8080/"
        },
        "id": "mxwrm2zm0F6Q",
        "outputId": "0d76b6a1-b4fe-481e-d916-3dff23bcb6fe"
      },
      "execution_count": 89,
      "outputs": [
        {
          "output_type": "stream",
          "name": "stdout",
          "text": [
            "Number of duplicate timestamps: 0\n"
          ]
        }
      ]
    },
    {
      "cell_type": "markdown",
      "source": [
        "### Time continuity verification\n"
      ],
      "metadata": {
        "id": "48-IxrIM0KHe"
      }
    },
    {
      "cell_type": "code",
      "source": [
        "# Calculate time differences between consecutive timestamps\n",
        "time_diff = df['date'].diff().value_counts()\n",
        "print(\"Time differences between rows:\")\n",
        "print(time_diff)"
      ],
      "metadata": {
        "colab": {
          "base_uri": "https://localhost:8080/"
        },
        "id": "6n7n_uO20O5t",
        "outputId": "301fd1ff-c718-4b6b-889c-84b14bd72ead"
      },
      "execution_count": 90,
      "outputs": [
        {
          "output_type": "stream",
          "name": "stdout",
          "text": [
            "Time differences between rows:\n",
            "date\n",
            "0 days 01:00:00    26303\n",
            "Name: count, dtype: int64\n"
          ]
        }
      ]
    },
    {
      "cell_type": "markdown",
      "source": [
        "### Checking and handling missing values"
      ],
      "metadata": {
        "id": "7WwOwTyk0kAL"
      }
    },
    {
      "cell_type": "code",
      "source": [
        "# Check for missing values\n",
        "missing_values = df.isnull().sum()\n",
        "print(\"Missing Values:\")\n",
        "print(missing_values[missing_values > 0])"
      ],
      "metadata": {
        "colab": {
          "base_uri": "https://localhost:8080/"
        },
        "id": "WrS_D1Mo1Afc",
        "outputId": "2b4e93ef-15d7-483d-fa6b-2d585f115d8d"
      },
      "execution_count": 91,
      "outputs": [
        {
          "output_type": "stream",
          "name": "stdout",
          "text": [
            "Missing Values:\n",
            "Series([], dtype: int64)\n"
          ]
        }
      ]
    },
    {
      "cell_type": "markdown",
      "source": [
        "### Normalizing and standardizing features"
      ],
      "metadata": {
        "id": "s1Qj_uc02Jgz"
      }
    },
    {
      "cell_type": "code",
      "source": [
        "# Normalize electricity consumption and OT\n",
        "scaler = MinMaxScaler()\n",
        "df.iloc[:, 1:] = scaler.fit_transform(df.iloc[:, 1:])  # Exclude 'date' column"
      ],
      "metadata": {
        "id": "mwKIpZXp2aMZ"
      },
      "execution_count": 92,
      "outputs": []
    },
    {
      "cell_type": "markdown",
      "source": [
        "### Feature Engineering"
      ],
      "metadata": {
        "id": "XXeKWAi9Kl0E"
      }
    },
    {
      "cell_type": "code",
      "source": [
        "# Extract time-based features depending on 2016 timetable\n",
        "df['hour'] = df['date'].dt.hour\n",
        "df['day_of_week'] = df['date'].dt.dayofweek\n",
        "df['month'] = df['date'].dt.month"
      ],
      "metadata": {
        "id": "KT_6rn7NLBdu"
      },
      "execution_count": 93,
      "outputs": []
    },
    {
      "cell_type": "code",
      "source": [
        "df.head()"
      ],
      "metadata": {
        "colab": {
          "base_uri": "https://localhost:8080/",
          "height": 429
        },
        "collapsed": true,
        "id": "t6iwZB4L2RXq",
        "outputId": "286b5c7c-8f25-4b79-b399-32a780e8adbc"
      },
      "execution_count": 94,
      "outputs": [
        {
          "output_type": "execute_result",
          "data": {
            "text/plain": [
              "                 date         0         1         2         3         4  \\\n",
              "0 2016-07-01 02:00:00  0.100000  0.233108  0.389351  0.354701  0.393053   \n",
              "1 2016-07-01 03:00:00  0.128571  0.310811  0.519135  0.475214  0.533821   \n",
              "2 2016-07-01 04:00:00  0.150000  0.324324  0.519135  0.478632  0.497258   \n",
              "3 2016-07-01 05:00:00  0.142857  0.310811  0.519135  0.378632  0.389397   \n",
              "4 2016-07-01 06:00:00  0.157143  0.307432  0.519135  0.295726  0.347349   \n",
              "\n",
              "          5         6         7         8  ...       314       315       316  \\\n",
              "0  0.532258  0.162921  0.399619  0.376667  ...  0.165162  0.125906  0.036090   \n",
              "1  0.686996  0.162921  0.524263  0.451667  ...  0.162502  0.166558  0.048872   \n",
              "2  0.625000  0.162921  0.487631  0.450000  ...  0.149972  0.165400  0.048120   \n",
              "3  0.425907  0.134831  0.396289  0.298333  ...  0.147767  0.160214  0.048872   \n",
              "4  0.326109  0.089888  0.348716  0.310000  ...  0.144057  0.158528  0.056391   \n",
              "\n",
              "        317       318       319        OT  hour  day_of_week  month  \n",
              "0  0.185366  0.350191  0.132944  0.358244     2            4      7  \n",
              "1  0.229268  0.489323  0.184806  0.469760     3            4      7  \n",
              "2  0.209756  0.492920  0.159240  0.457995     4            4      7  \n",
              "3  0.190244  0.295572  0.142440  0.453190     5            4      7  \n",
              "4  0.195122  0.309733  0.139518  0.450870     6            4      7  \n",
              "\n",
              "[5 rows x 325 columns]"
            ],
            "text/html": [
              "\n",
              "  <div id=\"df-f19f5546-5443-4b8b-8841-2bddcdbda15a\" class=\"colab-df-container\">\n",
              "    <div>\n",
              "<style scoped>\n",
              "    .dataframe tbody tr th:only-of-type {\n",
              "        vertical-align: middle;\n",
              "    }\n",
              "\n",
              "    .dataframe tbody tr th {\n",
              "        vertical-align: top;\n",
              "    }\n",
              "\n",
              "    .dataframe thead th {\n",
              "        text-align: right;\n",
              "    }\n",
              "</style>\n",
              "<table border=\"1\" class=\"dataframe\">\n",
              "  <thead>\n",
              "    <tr style=\"text-align: right;\">\n",
              "      <th></th>\n",
              "      <th>date</th>\n",
              "      <th>0</th>\n",
              "      <th>1</th>\n",
              "      <th>2</th>\n",
              "      <th>3</th>\n",
              "      <th>4</th>\n",
              "      <th>5</th>\n",
              "      <th>6</th>\n",
              "      <th>7</th>\n",
              "      <th>8</th>\n",
              "      <th>...</th>\n",
              "      <th>314</th>\n",
              "      <th>315</th>\n",
              "      <th>316</th>\n",
              "      <th>317</th>\n",
              "      <th>318</th>\n",
              "      <th>319</th>\n",
              "      <th>OT</th>\n",
              "      <th>hour</th>\n",
              "      <th>day_of_week</th>\n",
              "      <th>month</th>\n",
              "    </tr>\n",
              "  </thead>\n",
              "  <tbody>\n",
              "    <tr>\n",
              "      <th>0</th>\n",
              "      <td>2016-07-01 02:00:00</td>\n",
              "      <td>0.100000</td>\n",
              "      <td>0.233108</td>\n",
              "      <td>0.389351</td>\n",
              "      <td>0.354701</td>\n",
              "      <td>0.393053</td>\n",
              "      <td>0.532258</td>\n",
              "      <td>0.162921</td>\n",
              "      <td>0.399619</td>\n",
              "      <td>0.376667</td>\n",
              "      <td>...</td>\n",
              "      <td>0.165162</td>\n",
              "      <td>0.125906</td>\n",
              "      <td>0.036090</td>\n",
              "      <td>0.185366</td>\n",
              "      <td>0.350191</td>\n",
              "      <td>0.132944</td>\n",
              "      <td>0.358244</td>\n",
              "      <td>2</td>\n",
              "      <td>4</td>\n",
              "      <td>7</td>\n",
              "    </tr>\n",
              "    <tr>\n",
              "      <th>1</th>\n",
              "      <td>2016-07-01 03:00:00</td>\n",
              "      <td>0.128571</td>\n",
              "      <td>0.310811</td>\n",
              "      <td>0.519135</td>\n",
              "      <td>0.475214</td>\n",
              "      <td>0.533821</td>\n",
              "      <td>0.686996</td>\n",
              "      <td>0.162921</td>\n",
              "      <td>0.524263</td>\n",
              "      <td>0.451667</td>\n",
              "      <td>...</td>\n",
              "      <td>0.162502</td>\n",
              "      <td>0.166558</td>\n",
              "      <td>0.048872</td>\n",
              "      <td>0.229268</td>\n",
              "      <td>0.489323</td>\n",
              "      <td>0.184806</td>\n",
              "      <td>0.469760</td>\n",
              "      <td>3</td>\n",
              "      <td>4</td>\n",
              "      <td>7</td>\n",
              "    </tr>\n",
              "    <tr>\n",
              "      <th>2</th>\n",
              "      <td>2016-07-01 04:00:00</td>\n",
              "      <td>0.150000</td>\n",
              "      <td>0.324324</td>\n",
              "      <td>0.519135</td>\n",
              "      <td>0.478632</td>\n",
              "      <td>0.497258</td>\n",
              "      <td>0.625000</td>\n",
              "      <td>0.162921</td>\n",
              "      <td>0.487631</td>\n",
              "      <td>0.450000</td>\n",
              "      <td>...</td>\n",
              "      <td>0.149972</td>\n",
              "      <td>0.165400</td>\n",
              "      <td>0.048120</td>\n",
              "      <td>0.209756</td>\n",
              "      <td>0.492920</td>\n",
              "      <td>0.159240</td>\n",
              "      <td>0.457995</td>\n",
              "      <td>4</td>\n",
              "      <td>4</td>\n",
              "      <td>7</td>\n",
              "    </tr>\n",
              "    <tr>\n",
              "      <th>3</th>\n",
              "      <td>2016-07-01 05:00:00</td>\n",
              "      <td>0.142857</td>\n",
              "      <td>0.310811</td>\n",
              "      <td>0.519135</td>\n",
              "      <td>0.378632</td>\n",
              "      <td>0.389397</td>\n",
              "      <td>0.425907</td>\n",
              "      <td>0.134831</td>\n",
              "      <td>0.396289</td>\n",
              "      <td>0.298333</td>\n",
              "      <td>...</td>\n",
              "      <td>0.147767</td>\n",
              "      <td>0.160214</td>\n",
              "      <td>0.048872</td>\n",
              "      <td>0.190244</td>\n",
              "      <td>0.295572</td>\n",
              "      <td>0.142440</td>\n",
              "      <td>0.453190</td>\n",
              "      <td>5</td>\n",
              "      <td>4</td>\n",
              "      <td>7</td>\n",
              "    </tr>\n",
              "    <tr>\n",
              "      <th>4</th>\n",
              "      <td>2016-07-01 06:00:00</td>\n",
              "      <td>0.157143</td>\n",
              "      <td>0.307432</td>\n",
              "      <td>0.519135</td>\n",
              "      <td>0.295726</td>\n",
              "      <td>0.347349</td>\n",
              "      <td>0.326109</td>\n",
              "      <td>0.089888</td>\n",
              "      <td>0.348716</td>\n",
              "      <td>0.310000</td>\n",
              "      <td>...</td>\n",
              "      <td>0.144057</td>\n",
              "      <td>0.158528</td>\n",
              "      <td>0.056391</td>\n",
              "      <td>0.195122</td>\n",
              "      <td>0.309733</td>\n",
              "      <td>0.139518</td>\n",
              "      <td>0.450870</td>\n",
              "      <td>6</td>\n",
              "      <td>4</td>\n",
              "      <td>7</td>\n",
              "    </tr>\n",
              "  </tbody>\n",
              "</table>\n",
              "<p>5 rows × 325 columns</p>\n",
              "</div>\n",
              "    <div class=\"colab-df-buttons\">\n",
              "\n",
              "  <div class=\"colab-df-container\">\n",
              "    <button class=\"colab-df-convert\" onclick=\"convertToInteractive('df-f19f5546-5443-4b8b-8841-2bddcdbda15a')\"\n",
              "            title=\"Convert this dataframe to an interactive table.\"\n",
              "            style=\"display:none;\">\n",
              "\n",
              "  <svg xmlns=\"http://www.w3.org/2000/svg\" height=\"24px\" viewBox=\"0 -960 960 960\">\n",
              "    <path d=\"M120-120v-720h720v720H120Zm60-500h600v-160H180v160Zm220 220h160v-160H400v160Zm0 220h160v-160H400v160ZM180-400h160v-160H180v160Zm440 0h160v-160H620v160ZM180-180h160v-160H180v160Zm440 0h160v-160H620v160Z\"/>\n",
              "  </svg>\n",
              "    </button>\n",
              "\n",
              "  <style>\n",
              "    .colab-df-container {\n",
              "      display:flex;\n",
              "      gap: 12px;\n",
              "    }\n",
              "\n",
              "    .colab-df-convert {\n",
              "      background-color: #E8F0FE;\n",
              "      border: none;\n",
              "      border-radius: 50%;\n",
              "      cursor: pointer;\n",
              "      display: none;\n",
              "      fill: #1967D2;\n",
              "      height: 32px;\n",
              "      padding: 0 0 0 0;\n",
              "      width: 32px;\n",
              "    }\n",
              "\n",
              "    .colab-df-convert:hover {\n",
              "      background-color: #E2EBFA;\n",
              "      box-shadow: 0px 1px 2px rgba(60, 64, 67, 0.3), 0px 1px 3px 1px rgba(60, 64, 67, 0.15);\n",
              "      fill: #174EA6;\n",
              "    }\n",
              "\n",
              "    .colab-df-buttons div {\n",
              "      margin-bottom: 4px;\n",
              "    }\n",
              "\n",
              "    [theme=dark] .colab-df-convert {\n",
              "      background-color: #3B4455;\n",
              "      fill: #D2E3FC;\n",
              "    }\n",
              "\n",
              "    [theme=dark] .colab-df-convert:hover {\n",
              "      background-color: #434B5C;\n",
              "      box-shadow: 0px 1px 3px 1px rgba(0, 0, 0, 0.15);\n",
              "      filter: drop-shadow(0px 1px 2px rgba(0, 0, 0, 0.3));\n",
              "      fill: #FFFFFF;\n",
              "    }\n",
              "  </style>\n",
              "\n",
              "    <script>\n",
              "      const buttonEl =\n",
              "        document.querySelector('#df-f19f5546-5443-4b8b-8841-2bddcdbda15a button.colab-df-convert');\n",
              "      buttonEl.style.display =\n",
              "        google.colab.kernel.accessAllowed ? 'block' : 'none';\n",
              "\n",
              "      async function convertToInteractive(key) {\n",
              "        const element = document.querySelector('#df-f19f5546-5443-4b8b-8841-2bddcdbda15a');\n",
              "        const dataTable =\n",
              "          await google.colab.kernel.invokeFunction('convertToInteractive',\n",
              "                                                    [key], {});\n",
              "        if (!dataTable) return;\n",
              "\n",
              "        const docLinkHtml = 'Like what you see? Visit the ' +\n",
              "          '<a target=\"_blank\" href=https://colab.research.google.com/notebooks/data_table.ipynb>data table notebook</a>'\n",
              "          + ' to learn more about interactive tables.';\n",
              "        element.innerHTML = '';\n",
              "        dataTable['output_type'] = 'display_data';\n",
              "        await google.colab.output.renderOutput(dataTable, element);\n",
              "        const docLink = document.createElement('div');\n",
              "        docLink.innerHTML = docLinkHtml;\n",
              "        element.appendChild(docLink);\n",
              "      }\n",
              "    </script>\n",
              "  </div>\n",
              "\n",
              "\n",
              "<div id=\"df-65a96b8f-cfb4-40f5-8321-b71862dffb3c\">\n",
              "  <button class=\"colab-df-quickchart\" onclick=\"quickchart('df-65a96b8f-cfb4-40f5-8321-b71862dffb3c')\"\n",
              "            title=\"Suggest charts\"\n",
              "            style=\"display:none;\">\n",
              "\n",
              "<svg xmlns=\"http://www.w3.org/2000/svg\" height=\"24px\"viewBox=\"0 0 24 24\"\n",
              "     width=\"24px\">\n",
              "    <g>\n",
              "        <path d=\"M19 3H5c-1.1 0-2 .9-2 2v14c0 1.1.9 2 2 2h14c1.1 0 2-.9 2-2V5c0-1.1-.9-2-2-2zM9 17H7v-7h2v7zm4 0h-2V7h2v10zm4 0h-2v-4h2v4z\"/>\n",
              "    </g>\n",
              "</svg>\n",
              "  </button>\n",
              "\n",
              "<style>\n",
              "  .colab-df-quickchart {\n",
              "      --bg-color: #E8F0FE;\n",
              "      --fill-color: #1967D2;\n",
              "      --hover-bg-color: #E2EBFA;\n",
              "      --hover-fill-color: #174EA6;\n",
              "      --disabled-fill-color: #AAA;\n",
              "      --disabled-bg-color: #DDD;\n",
              "  }\n",
              "\n",
              "  [theme=dark] .colab-df-quickchart {\n",
              "      --bg-color: #3B4455;\n",
              "      --fill-color: #D2E3FC;\n",
              "      --hover-bg-color: #434B5C;\n",
              "      --hover-fill-color: #FFFFFF;\n",
              "      --disabled-bg-color: #3B4455;\n",
              "      --disabled-fill-color: #666;\n",
              "  }\n",
              "\n",
              "  .colab-df-quickchart {\n",
              "    background-color: var(--bg-color);\n",
              "    border: none;\n",
              "    border-radius: 50%;\n",
              "    cursor: pointer;\n",
              "    display: none;\n",
              "    fill: var(--fill-color);\n",
              "    height: 32px;\n",
              "    padding: 0;\n",
              "    width: 32px;\n",
              "  }\n",
              "\n",
              "  .colab-df-quickchart:hover {\n",
              "    background-color: var(--hover-bg-color);\n",
              "    box-shadow: 0 1px 2px rgba(60, 64, 67, 0.3), 0 1px 3px 1px rgba(60, 64, 67, 0.15);\n",
              "    fill: var(--button-hover-fill-color);\n",
              "  }\n",
              "\n",
              "  .colab-df-quickchart-complete:disabled,\n",
              "  .colab-df-quickchart-complete:disabled:hover {\n",
              "    background-color: var(--disabled-bg-color);\n",
              "    fill: var(--disabled-fill-color);\n",
              "    box-shadow: none;\n",
              "  }\n",
              "\n",
              "  .colab-df-spinner {\n",
              "    border: 2px solid var(--fill-color);\n",
              "    border-color: transparent;\n",
              "    border-bottom-color: var(--fill-color);\n",
              "    animation:\n",
              "      spin 1s steps(1) infinite;\n",
              "  }\n",
              "\n",
              "  @keyframes spin {\n",
              "    0% {\n",
              "      border-color: transparent;\n",
              "      border-bottom-color: var(--fill-color);\n",
              "      border-left-color: var(--fill-color);\n",
              "    }\n",
              "    20% {\n",
              "      border-color: transparent;\n",
              "      border-left-color: var(--fill-color);\n",
              "      border-top-color: var(--fill-color);\n",
              "    }\n",
              "    30% {\n",
              "      border-color: transparent;\n",
              "      border-left-color: var(--fill-color);\n",
              "      border-top-color: var(--fill-color);\n",
              "      border-right-color: var(--fill-color);\n",
              "    }\n",
              "    40% {\n",
              "      border-color: transparent;\n",
              "      border-right-color: var(--fill-color);\n",
              "      border-top-color: var(--fill-color);\n",
              "    }\n",
              "    60% {\n",
              "      border-color: transparent;\n",
              "      border-right-color: var(--fill-color);\n",
              "    }\n",
              "    80% {\n",
              "      border-color: transparent;\n",
              "      border-right-color: var(--fill-color);\n",
              "      border-bottom-color: var(--fill-color);\n",
              "    }\n",
              "    90% {\n",
              "      border-color: transparent;\n",
              "      border-bottom-color: var(--fill-color);\n",
              "    }\n",
              "  }\n",
              "</style>\n",
              "\n",
              "  <script>\n",
              "    async function quickchart(key) {\n",
              "      const quickchartButtonEl =\n",
              "        document.querySelector('#' + key + ' button');\n",
              "      quickchartButtonEl.disabled = true;  // To prevent multiple clicks.\n",
              "      quickchartButtonEl.classList.add('colab-df-spinner');\n",
              "      try {\n",
              "        const charts = await google.colab.kernel.invokeFunction(\n",
              "            'suggestCharts', [key], {});\n",
              "      } catch (error) {\n",
              "        console.error('Error during call to suggestCharts:', error);\n",
              "      }\n",
              "      quickchartButtonEl.classList.remove('colab-df-spinner');\n",
              "      quickchartButtonEl.classList.add('colab-df-quickchart-complete');\n",
              "    }\n",
              "    (() => {\n",
              "      let quickchartButtonEl =\n",
              "        document.querySelector('#df-65a96b8f-cfb4-40f5-8321-b71862dffb3c button');\n",
              "      quickchartButtonEl.style.display =\n",
              "        google.colab.kernel.accessAllowed ? 'block' : 'none';\n",
              "    })();\n",
              "  </script>\n",
              "</div>\n",
              "\n",
              "    </div>\n",
              "  </div>\n"
            ],
            "application/vnd.google.colaboratory.intrinsic+json": {
              "type": "dataframe",
              "variable_name": "df"
            }
          },
          "metadata": {},
          "execution_count": 94
        }
      ]
    },
    {
      "cell_type": "code",
      "source": [
        "#Features extraction\n",
        "customer_columns = [str(i) for i in range(320)]\n",
        "external_columns = ['OT', 'hour', 'day_of_week', 'month']"
      ],
      "metadata": {
        "id": "rH4dQliX4H6f"
      },
      "execution_count": 98,
      "outputs": []
    },
    {
      "cell_type": "markdown",
      "source": [
        "### Splitting Data into training, validation and testing sets"
      ],
      "metadata": {
        "id": "okEjvwJ8LWdF"
      }
    },
    {
      "cell_type": "code",
      "source": [
        "# Define input features (X) and target variables (Y)\n",
        "#X = df.drop(columns=['date'])\n",
        "X = df[customer_columns + external_columns]\n",
        "#Y = df['OT']  # Or other target variable\n",
        "Y = df[customer_columns]\n",
        "\n",
        "# Split the data into training and testing sets (80% train, 20% test)\n",
        "X_train, X_test, Y_train, Y_test = train_test_split(X, Y, test_size=0.2, random_state=42)\n",
        "\n",
        "# Further split the training data into training and validation sets (80% train, 20% validation)\n",
        "X_train, X_val, Y_train, Y_val = train_test_split(X_train, Y_train, test_size=0.2, random_state=42)\n",
        "\n",
        "# Print out the shapes of each split\n",
        "print(f\"Training Set: {X_train.shape}, Validation Set: {X_val.shape}, Testing Set: {X_test.shape}\")"
      ],
      "metadata": {
        "colab": {
          "base_uri": "https://localhost:8080/"
        },
        "id": "af_-qc6-LhyF",
        "outputId": "944096a1-e10d-4443-cef1-1e43ff8c0d0c"
      },
      "execution_count": 99,
      "outputs": [
        {
          "output_type": "stream",
          "name": "stdout",
          "text": [
            "Training Set: (16834, 324), Validation Set: (4209, 324), Testing Set: (5261, 324)\n"
          ]
        }
      ]
    },
    {
      "cell_type": "code",
      "source": [
        "# Convert DataFrames to NumPy arrays\n",
        "X_train = X_train.to_numpy()\n",
        "Y_train = Y_train.to_numpy()\n",
        "X_val = X_val.to_numpy()\n",
        "Y_val = Y_val.to_numpy()\n",
        "X_test = X_test.to_numpy()\n",
        "Y_test = Y_test.to_numpy()"
      ],
      "metadata": {
        "id": "B-aKntlX-lNr"
      },
      "execution_count": 47,
      "outputs": []
    },
    {
      "cell_type": "markdown",
      "source": [
        "### Preparing Data for TIme Series Modeling\n",
        "Sequence preparation is necessary :    \n",
        "- To Capture Temporal Dependencies as time series models learn patterns and dependencies between past and future values. This allows structuring the data into sequencies of input_steps (past observations) and output_steps (future predictions) as the model learns how the target variable evolves over time.\n",
        "- To enable multi-step forecasting (predicting multiple time steps into the future)\n",
        "\n",
        "=> THis slicing can be done in different ways such as TimeseriesGenerator and others but we choose the NumPy array slicing here because then the data prepared can be directly converted to PyTorch tensors using torch.from_numpy() since we are going to use PyTorch in order to create the NHits model."
      ],
      "metadata": {
        "id": "AXTOY2rFNNHQ"
      }
    },
    {
      "cell_type": "code",
      "source": [
        "# Parameters\n",
        "input_steps = 24\n",
        "output_steps = 12\n",
        "\n",
        "# Prepare sequences for X_train, Y_train, X_val, Y_val, X_test, Y_test\n",
        "def prepare_sequences(X, Y, input_steps, output_steps):\n",
        "    n_samples = len(X) - input_steps - output_steps\n",
        "    X_seq = np.array([X[i:i + input_steps] for i in range(n_samples)])\n",
        "    Y_seq = np.array([Y[i + input_steps:i + input_steps + output_steps] for i in range(n_samples)])\n",
        "    return X_seq, Y_seq\n",
        "\n",
        "# Prepare sequences for train, validation, and test\n",
        "X_train_seq, Y_train_seq = prepare_sequences(X_train, Y_train, input_steps, output_steps)\n",
        "X_val_seq, Y_val_seq = prepare_sequences(X_val, Y_val, input_steps, output_steps)\n",
        "X_test_seq, Y_test_seq = prepare_sequences(X_test, Y_test, input_steps, output_steps)\n",
        "\n",
        "# Convert sequences to torch tensors for training\n",
        "X_train_seq = torch.tensor(X_train_seq, dtype=torch.float32)\n",
        "Y_train_seq = torch.tensor(Y_train_seq, dtype=torch.float32)\n",
        "X_val_seq = torch.tensor(X_val_seq, dtype=torch.float32)\n",
        "Y_val_seq = torch.tensor(Y_val_seq, dtype=torch.float32)\n",
        "X_test_seq = torch.tensor(X_test_seq, dtype=torch.float32)\n",
        "Y_test_seq = torch.tensor(Y_test_seq, dtype=torch.float32)"
      ],
      "metadata": {
        "id": "p_QO39mYNRzN"
      },
      "execution_count": 101,
      "outputs": []
    },
    {
      "cell_type": "markdown",
      "source": [
        "### Converting to PyTorch Dataset"
      ],
      "metadata": {
        "id": "VsB_eGnwbmGU"
      }
    },
    {
      "cell_type": "code",
      "source": [
        "# TimeSeriesDataset class remains the same\n",
        "class TimeSeriesDataset(Dataset):\n",
        "    def __init__(self, X, Y):\n",
        "        self.X = X\n",
        "        self.Y = Y\n",
        "\n",
        "    def __len__(self):\n",
        "        return len(self.X)\n",
        "\n",
        "    def __getitem__(self, idx):\n",
        "        return self.X[idx], self.Y[idx]"
      ],
      "metadata": {
        "id": "6zBKWkw5bq-7"
      },
      "execution_count": 102,
      "outputs": []
    },
    {
      "cell_type": "markdown",
      "source": [
        "### Creating datasets and dataloader"
      ],
      "metadata": {
        "id": "9i8C8T64b9O3"
      }
    },
    {
      "cell_type": "code",
      "source": [
        "# Create datasets\n",
        "train_dataset = TimeSeriesDataset(X_train_seq, Y_train_seq)\n",
        "val_dataset = TimeSeriesDataset(X_val_seq, Y_val_seq)\n",
        "test_dataset = TimeSeriesDataset(X_test_seq, Y_test_seq)\n",
        "\n",
        "# Create DataLoader for train, validation, and test\n",
        "batch_size = 32\n",
        "train_dataloader = DataLoader(train_dataset, batch_size=batch_size, shuffle=True)\n",
        "val_dataloader = DataLoader(val_dataset, batch_size=batch_size, shuffle=False)\n",
        "test_dataloader = DataLoader(test_dataset, batch_size=batch_size, shuffle=False)\n",
        "\n",
        "# Example usage to check DataLoader outputs\n",
        "for batch_X, batch_Y in train_dataloader:\n",
        "    print(batch_X.shape, batch_Y.shape)\n",
        "    break"
      ],
      "metadata": {
        "colab": {
          "base_uri": "https://localhost:8080/"
        },
        "id": "XrYcmqF7bz_O",
        "outputId": "212104f5-784c-4400-9f12-bac4dc623b4b"
      },
      "execution_count": 103,
      "outputs": [
        {
          "output_type": "stream",
          "name": "stdout",
          "text": [
            "torch.Size([32, 24, 324]) torch.Size([32, 12, 320])\n"
          ]
        }
      ]
    },
    {
      "cell_type": "markdown",
      "source": [
        "### NHITS Implementation\n",
        "\n",
        "I am going to follow the implementation plan below.\n",
        "\n",
        "Step 1: Define the Building Blocks\n",
        "- NHITS Block: A single stack.\n",
        "- Residual Mechanism: Combines forecasts hierarchically.\n",
        "\n",
        "Step 2: Assemble the Stacks\n",
        "- Use multiple NHITS blocks in sequence.\n",
        "\n",
        "Step 3: Combine Predictions\n",
        "- Sum up predictions from all stacks to produce the final forecast.\n"
      ],
      "metadata": {
        "id": "ecXcy_gEeVAj"
      }
    },
    {
      "cell_type": "markdown",
      "source": [
        "#### NHITS Block definition\n",
        "--> Each block is going to consist of:\n",
        "\n",
        "- Linear layers to projects inputs and refine outputs.\n",
        "- A mechanism to handle residuals for hierarchical forecasting."
      ],
      "metadata": {
        "id": "OBeGvLXfe3r7"
      }
    },
    {
      "cell_type": "code",
      "source": [
        "\"\"\"class NHITSBlock(nn.Module):\n",
        "    def __init__(self, input_steps, input_size, output_size, hidden_size):\n",
        "        super(NHITSBlock, self).__init__()\n",
        "        self.input_steps = input_steps\n",
        "        self.input_size = input_size\n",
        "        self.output_size = output_size\n",
        "\n",
        "        # Fully connected layers\n",
        "        self.fc1 = nn.Linear(input_steps * input_size, hidden_size)  # Flattened input\n",
        "        self.fc2 = nn.Linear(hidden_size, hidden_size)\n",
        "        self.fc_out = nn.Linear(hidden_size, output_size)\n",
        "\n",
        "    def forward(self, x):\n",
        "        # Flatten the input: (batch_size, input_steps, input_size) -> (batch_size, input_steps * input_size)\n",
        "        x = x.view(x.size(0), -1)  # Flatten the input\n",
        "        x = F.relu(self.fc1(x))\n",
        "        x = F.relu(self.fc2(x))\n",
        "        output = self.fc_out(x)\n",
        "        return output\"\"\""
      ],
      "metadata": {
        "id": "fWgGUCcqeY0H"
      },
      "execution_count": 66,
      "outputs": []
    },
    {
      "cell_type": "markdown",
      "source": [
        "#### Definition of the NHITS MOdel\n",
        "\n",
        "This consists of combining multiple NHITS blocks and implementing the residual mechanism"
      ],
      "metadata": {
        "id": "eKGgkw4nfXh1"
      }
    },
    {
      "cell_type": "code",
      "source": [
        "#Simple task model\n",
        "\"\"\"class NHITSModel(nn.Module):\n",
        "    def __init__(self, input_size, output_size, hidden_size, input_steps, num_blocks):\n",
        "        super(NHITSModel, self).__init__()\n",
        "        self.num_blocks = num_blocks\n",
        "        self.blocks = nn.ModuleList([\n",
        "            NHITSBlock(input_size, output_size, hidden_size, input_steps)\n",
        "            for _ in range(num_blocks)\n",
        "        ])\n",
        "\n",
        "    def forward(self, x):\n",
        "        for block in self.blocks:\n",
        "            x = block(x)  # Forward pass through each NHITS block\n",
        "        return x\"\"\""
      ],
      "metadata": {
        "id": "Tn98E3YWtYkL"
      },
      "execution_count": null,
      "outputs": []
    },
    {
      "cell_type": "code",
      "source": [
        "#RESIDUAL MODEL\n",
        "\"\"\"class NHITS(nn.Module):\n",
        "    def __init__(self, input_steps, input_size, output_size, hidden_size, num_stacks):\n",
        "        super(NHITS, self).__init__()\n",
        "        self.num_stacks = num_stacks\n",
        "        self.input_steps = input_steps\n",
        "        self.input_size = input_size\n",
        "        self.output_size = output_size\n",
        "\n",
        "        # Create multiple NHITS blocks\n",
        "        self.blocks = nn.ModuleList([\n",
        "            NHITSBlock(input_steps, input_size, output_size, hidden_size) for _ in range(num_stacks)\n",
        "        ])\n",
        "\n",
        "        # Projection layer to map residuals back to input_size\n",
        "        self.projection = nn.Linear(output_size, input_size)\n",
        "\n",
        "    def forward(self, x):\n",
        "        # Initialize residual as input\n",
        "        residual = x\n",
        "        forecasts = []\n",
        "\n",
        "        for block in self.blocks:\n",
        "            # Predict using the block\n",
        "            forecast = block(residual)\n",
        "            forecasts.append(forecast)\n",
        "\n",
        "            # Update residual and project it back to input size\n",
        "            residual_update = self.projection(forecast)\n",
        "\n",
        "            # Expand the residual_update to match the shape of residual (broadcasting)\n",
        "            residual_update_expanded = residual_update.unsqueeze(1).expand_as(residual)\n",
        "            residual = residual - residual_update_expanded\n",
        "\n",
        "        # Combine all forecasts\n",
        "        final_forecast = sum(forecasts)\n",
        "        return final_forecast\"\"\""
      ],
      "metadata": {
        "id": "aCbv0T0Afoyc"
      },
      "execution_count": 104,
      "outputs": []
    },
    {
      "cell_type": "markdown",
      "source": [
        "#### Initialising the Model"
      ],
      "metadata": {
        "id": "PpTybbj4gFGm"
      }
    },
    {
      "cell_type": "code",
      "source": [
        "class NHITSBlock(nn.Module):\n",
        "    def __init__(self, input_steps, input_size, output_size, hidden_size):\n",
        "        super(NHITSBlock, self).__init__()\n",
        "        self.input_steps = input_steps\n",
        "        self.input_size = input_size\n",
        "        self.output_size = output_size\n",
        "\n",
        "        # Adding a recurrent layer\n",
        "        self.rnn = nn.LSTM(input_size, hidden_size, batch_first=True)\n",
        "\n",
        "        # Fully connected layers\n",
        "        self.fc1 = nn.Linear(hidden_size * input_steps, hidden_size)  # Flattened output from LSTM\n",
        "        self.fc2 = nn.Linear(hidden_size, hidden_size)\n",
        "        self.fc_out = nn.Linear(hidden_size, output_size)\n",
        "\n",
        "    def forward(self, x):\n",
        "        # Pass through LSTM to capture temporal dependencies\n",
        "        x, _ = self.rnn(x)  # Output shape: (batch_size, input_steps, hidden_size)\n",
        "\n",
        "        # Flatten the output: (batch_size, input_steps, hidden_size) -> (batch_size, input_steps * hidden_size)\n",
        "        x = x.contiguous().view(x.size(0), -1)  # Flatten\n",
        "        x = F.relu(self.fc1(x))\n",
        "        x = F.relu(self.fc2(x))\n",
        "        output = self.fc_out(x)\n",
        "        return output"
      ],
      "metadata": {
        "id": "8itJZQWTxLLq"
      },
      "execution_count": 106,
      "outputs": []
    },
    {
      "cell_type": "code",
      "source": [
        "class NHITS(nn.Module):\n",
        "    def __init__(self, input_steps, input_size, output_size, hidden_size, num_stacks):\n",
        "        super(NHITS, self).__init__()\n",
        "        self.num_stacks = num_stacks\n",
        "        self.input_steps = input_steps\n",
        "        self.input_size = input_size\n",
        "        self.output_size = output_size\n",
        "\n",
        "        # Create multiple NHITS blocks\n",
        "        self.blocks = nn.ModuleList([\n",
        "            NHITSBlock(input_steps, input_size, output_size, hidden_size) for _ in range(num_stacks)\n",
        "        ])\n",
        "\n",
        "        # Projection layer to map residuals back to input_size\n",
        "        self.projection = nn.Linear(output_size, input_size)\n",
        "\n",
        "    def forward(self, x):\n",
        "        # Initialize residual as input\n",
        "        residual = x\n",
        "        forecasts = []\n",
        "\n",
        "        for block in self.blocks:\n",
        "            # Predict using the block\n",
        "            forecast = block(residual)\n",
        "            forecasts.append(forecast)\n",
        "\n",
        "            # Update residual and project it back to input size\n",
        "            residual_update = self.projection(forecast)\n",
        "\n",
        "            # Expand the residual_update to match the shape of residual (broadcasting)\n",
        "            residual_update_expanded = residual_update.unsqueeze(1).expand_as(residual)\n",
        "            residual = residual + residual_update_expanded  # Adding residual update to the residual\n",
        "\n",
        "        # Combine all forecasts\n",
        "        final_forecast = sum(forecasts)\n",
        "        return final_forecast\n"
      ],
      "metadata": {
        "id": "p1eHy-0UxTN0"
      },
      "execution_count": 114,
      "outputs": []
    },
    {
      "cell_type": "code",
      "source": [
        "# Parameters\n",
        "input_steps = 24  # Number of past time steps\n",
        "input_size = 324  # Number of features (320 customers + external features: 'OT', 'hour', 'day_of_week', 'month')\n",
        "output_size = 320  # Forecast for 320 customers (same as the number of customers you're predicting)\n",
        "hidden_size = 128  # Hidden layer size\n",
        "num_stacks = 3     # Number of hierarchical blocks\n",
        "\n",
        "# Create NHITS model\n",
        "model = NHITS(input_steps, input_size, output_size, hidden_size, num_stacks)\n",
        "\n",
        "# Example input\n",
        "example_input = torch.randn(32, input_steps, input_size)  # 32 batches, 24 time steps, 324 features\n",
        "output = model(example_input)\n",
        "print(f\"Output Shape: {output.shape}\")  # Expected: (32, 320)"
      ],
      "metadata": {
        "colab": {
          "base_uri": "https://localhost:8080/"
        },
        "id": "7LE_0SdegKjt",
        "outputId": "709011f0-9403-4c6b-dd13-0e7234f253e8"
      },
      "execution_count": 115,
      "outputs": [
        {
          "output_type": "stream",
          "name": "stdout",
          "text": [
            "Output Shape: torch.Size([32, 320])\n"
          ]
        }
      ]
    },
    {
      "cell_type": "markdown",
      "source": [
        "### Training and validation"
      ],
      "metadata": {
        "id": "NKQGVOB6zZEX"
      }
    },
    {
      "cell_type": "markdown",
      "source": [
        "#### Definition of the loss function and the optimizer"
      ],
      "metadata": {
        "id": "zkqCJXD-5u8s"
      }
    },
    {
      "cell_type": "code",
      "source": [
        "criterion = nn.MSELoss()  # Mean Squared Error loss\n",
        "optimizer = torch.optim.Adam(model.parameters(), lr=0.001)  # Adam optimizer"
      ],
      "metadata": {
        "id": "RMvtGapRzdIz"
      },
      "execution_count": 119,
      "outputs": []
    },
    {
      "cell_type": "markdown",
      "source": [
        "#### Training and validation"
      ],
      "metadata": {
        "id": "VWh9foKW59Sd"
      }
    },
    {
      "cell_type": "code",
      "source": [
        "# Validation function\n",
        "def validate(model, val_dataloader, criterion):\n",
        "    model.eval()  # Set the model to evaluation mode (turn off dropout, batch norm)\n",
        "    val_loss = 0.0  # Initialize validation loss\n",
        "    with torch.no_grad():  # No need to compute gradients during validation\n",
        "        for batch_X, batch_Y in val_dataloader:\n",
        "            batch_Y = batch_Y.mean(dim=1)\n",
        "            # Forward pass\n",
        "            predictions = model(batch_X)\n",
        "\n",
        "            # Compute loss\n",
        "            loss = criterion(predictions, batch_Y)\n",
        "\n",
        "            # Accumulate loss for this batch\n",
        "            val_loss += loss.item()\n",
        "\n",
        "    # Return the average validation loss\n",
        "    avg_val_loss = val_loss / len(val_dataloader)\n",
        "    return avg_val_loss\n"
      ],
      "metadata": {
        "id": "G1BGD7dt6-j5"
      },
      "execution_count": 128,
      "outputs": []
    },
    {
      "cell_type": "code",
      "source": [
        "# Parameters\n",
        "num_epochs = 20  # Number of epochs to train\n",
        "batch_size = 32  # Batch size\n",
        "\n",
        "# Training loop\n",
        "for epoch in range(num_epochs):\n",
        "    model.train()  # Set the model to training mode\n",
        "    running_loss = 0.0\n",
        "\n",
        "    for batch_X, batch_Y in train_dataloader:\n",
        "\n",
        "        batch_Y = batch_Y.mean(dim=1)\n",
        "\n",
        "        # Print shapes for debugging\n",
        "        #print(f\"batch_X shape: {batch_X.shape}\")\n",
        "        #print(f\"batch_Y shape: {batch_Y.shape}\")\n",
        "\n",
        "        # Forward pass\n",
        "        predictions = model(batch_X)\n",
        "\n",
        "        # Print prediction shape for debugging\n",
        "        #print(f\"Predictions shape: {predictions.shape}\")\n",
        "\n",
        "\n",
        "        # Compute loss\n",
        "        loss = criterion(predictions, batch_Y)\n",
        "\n",
        "        # Backward pass (compute gradients)\n",
        "        optimizer.zero_grad()  # Zero out previous gradients\n",
        "\n",
        "        loss.backward()\n",
        "\n",
        "        # Update weights\n",
        "        optimizer.step()\n",
        "\n",
        "        # Accumulate loss for this batch\n",
        "        running_loss += loss.item()\n",
        "\n",
        "    # Print the average loss for this epoch\n",
        "    epoch_loss = running_loss / len(train_dataloader)\n",
        "    print(f\"Epoch [{epoch+1}/{num_epochs}], Loss: {epoch_loss:}\")\n",
        "\n",
        "    # Perform validation after each epoch\n",
        "    val_loss = validate(model, val_dataloader, criterion)\n",
        "    print(f\"Epoch [{epoch+1}/{num_epochs}], Validation Loss: {val_loss:}\")\n"
      ],
      "metadata": {
        "colab": {
          "base_uri": "https://localhost:8080/",
          "height": 478
        },
        "id": "BkhFSHRr6Ap1",
        "outputId": "8363b9e8-9d41-4b62-ff69-04cec0144cba"
      },
      "execution_count": 129,
      "outputs": [
        {
          "output_type": "stream",
          "name": "stdout",
          "text": [
            "Epoch [1/20], Loss: 0.0008023441891141591\n",
            "Epoch [1/20], Validation Loss: 0.0030719717033207417\n",
            "Epoch [2/20], Loss: 0.0007843783213978721\n",
            "Epoch [2/20], Validation Loss: 0.003007119852971314\n",
            "Epoch [3/20], Loss: 0.0007694837947686513\n",
            "Epoch [3/20], Validation Loss: 0.0030827825704148708\n"
          ]
        },
        {
          "output_type": "error",
          "ename": "KeyboardInterrupt",
          "evalue": "",
          "traceback": [
            "\u001b[0;31m---------------------------------------------------------------------------\u001b[0m",
            "\u001b[0;31mKeyboardInterrupt\u001b[0m                         Traceback (most recent call last)",
            "\u001b[0;32m<ipython-input-129-880b3861de9d>\u001b[0m in \u001b[0;36m<cell line: 6>\u001b[0;34m()\u001b[0m\n\u001b[1;32m     32\u001b[0m \u001b[0;34m\u001b[0m\u001b[0m\n\u001b[1;32m     33\u001b[0m         \u001b[0;31m# Update weights\u001b[0m\u001b[0;34m\u001b[0m\u001b[0;34m\u001b[0m\u001b[0m\n\u001b[0;32m---> 34\u001b[0;31m         \u001b[0moptimizer\u001b[0m\u001b[0;34m.\u001b[0m\u001b[0mstep\u001b[0m\u001b[0;34m(\u001b[0m\u001b[0;34m)\u001b[0m\u001b[0;34m\u001b[0m\u001b[0;34m\u001b[0m\u001b[0m\n\u001b[0m\u001b[1;32m     35\u001b[0m \u001b[0;34m\u001b[0m\u001b[0m\n\u001b[1;32m     36\u001b[0m         \u001b[0;31m# Accumulate loss for this batch\u001b[0m\u001b[0;34m\u001b[0m\u001b[0;34m\u001b[0m\u001b[0m\n",
            "\u001b[0;32m/usr/local/lib/python3.10/dist-packages/torch/optim/optimizer.py\u001b[0m in \u001b[0;36mwrapper\u001b[0;34m(*args, **kwargs)\u001b[0m\n\u001b[1;32m    485\u001b[0m                             )\n\u001b[1;32m    486\u001b[0m \u001b[0;34m\u001b[0m\u001b[0m\n\u001b[0;32m--> 487\u001b[0;31m                 \u001b[0mout\u001b[0m \u001b[0;34m=\u001b[0m \u001b[0mfunc\u001b[0m\u001b[0;34m(\u001b[0m\u001b[0;34m*\u001b[0m\u001b[0margs\u001b[0m\u001b[0;34m,\u001b[0m \u001b[0;34m**\u001b[0m\u001b[0mkwargs\u001b[0m\u001b[0;34m)\u001b[0m\u001b[0;34m\u001b[0m\u001b[0;34m\u001b[0m\u001b[0m\n\u001b[0m\u001b[1;32m    488\u001b[0m                 \u001b[0mself\u001b[0m\u001b[0;34m.\u001b[0m\u001b[0m_optimizer_step_code\u001b[0m\u001b[0;34m(\u001b[0m\u001b[0;34m)\u001b[0m\u001b[0;34m\u001b[0m\u001b[0;34m\u001b[0m\u001b[0m\n\u001b[1;32m    489\u001b[0m \u001b[0;34m\u001b[0m\u001b[0m\n",
            "\u001b[0;32m/usr/local/lib/python3.10/dist-packages/torch/optim/optimizer.py\u001b[0m in \u001b[0;36m_use_grad\u001b[0;34m(self, *args, **kwargs)\u001b[0m\n\u001b[1;32m     89\u001b[0m             \u001b[0mtorch\u001b[0m\u001b[0;34m.\u001b[0m\u001b[0mset_grad_enabled\u001b[0m\u001b[0;34m(\u001b[0m\u001b[0mself\u001b[0m\u001b[0;34m.\u001b[0m\u001b[0mdefaults\u001b[0m\u001b[0;34m[\u001b[0m\u001b[0;34m\"differentiable\"\u001b[0m\u001b[0;34m]\u001b[0m\u001b[0;34m)\u001b[0m\u001b[0;34m\u001b[0m\u001b[0;34m\u001b[0m\u001b[0m\n\u001b[1;32m     90\u001b[0m             \u001b[0mtorch\u001b[0m\u001b[0;34m.\u001b[0m\u001b[0m_dynamo\u001b[0m\u001b[0;34m.\u001b[0m\u001b[0mgraph_break\u001b[0m\u001b[0;34m(\u001b[0m\u001b[0;34m)\u001b[0m\u001b[0;34m\u001b[0m\u001b[0;34m\u001b[0m\u001b[0m\n\u001b[0;32m---> 91\u001b[0;31m             \u001b[0mret\u001b[0m \u001b[0;34m=\u001b[0m \u001b[0mfunc\u001b[0m\u001b[0;34m(\u001b[0m\u001b[0mself\u001b[0m\u001b[0;34m,\u001b[0m \u001b[0;34m*\u001b[0m\u001b[0margs\u001b[0m\u001b[0;34m,\u001b[0m \u001b[0;34m**\u001b[0m\u001b[0mkwargs\u001b[0m\u001b[0;34m)\u001b[0m\u001b[0;34m\u001b[0m\u001b[0;34m\u001b[0m\u001b[0m\n\u001b[0m\u001b[1;32m     92\u001b[0m         \u001b[0;32mfinally\u001b[0m\u001b[0;34m:\u001b[0m\u001b[0;34m\u001b[0m\u001b[0;34m\u001b[0m\u001b[0m\n\u001b[1;32m     93\u001b[0m             \u001b[0mtorch\u001b[0m\u001b[0;34m.\u001b[0m\u001b[0m_dynamo\u001b[0m\u001b[0;34m.\u001b[0m\u001b[0mgraph_break\u001b[0m\u001b[0;34m(\u001b[0m\u001b[0;34m)\u001b[0m\u001b[0;34m\u001b[0m\u001b[0;34m\u001b[0m\u001b[0m\n",
            "\u001b[0;32m/usr/local/lib/python3.10/dist-packages/torch/optim/adam.py\u001b[0m in \u001b[0;36mstep\u001b[0;34m(self, closure)\u001b[0m\n\u001b[1;32m    221\u001b[0m             )\n\u001b[1;32m    222\u001b[0m \u001b[0;34m\u001b[0m\u001b[0m\n\u001b[0;32m--> 223\u001b[0;31m             adam(\n\u001b[0m\u001b[1;32m    224\u001b[0m                 \u001b[0mparams_with_grad\u001b[0m\u001b[0;34m,\u001b[0m\u001b[0;34m\u001b[0m\u001b[0;34m\u001b[0m\u001b[0m\n\u001b[1;32m    225\u001b[0m                 \u001b[0mgrads\u001b[0m\u001b[0;34m,\u001b[0m\u001b[0;34m\u001b[0m\u001b[0;34m\u001b[0m\u001b[0m\n",
            "\u001b[0;32m/usr/local/lib/python3.10/dist-packages/torch/optim/optimizer.py\u001b[0m in \u001b[0;36mmaybe_fallback\u001b[0;34m(*args, **kwargs)\u001b[0m\n\u001b[1;32m    152\u001b[0m                 \u001b[0;32mreturn\u001b[0m \u001b[0mdisabled_func\u001b[0m\u001b[0;34m(\u001b[0m\u001b[0;34m*\u001b[0m\u001b[0margs\u001b[0m\u001b[0;34m,\u001b[0m \u001b[0;34m**\u001b[0m\u001b[0mkwargs\u001b[0m\u001b[0;34m)\u001b[0m\u001b[0;34m\u001b[0m\u001b[0;34m\u001b[0m\u001b[0m\n\u001b[1;32m    153\u001b[0m             \u001b[0;32melse\u001b[0m\u001b[0;34m:\u001b[0m\u001b[0;34m\u001b[0m\u001b[0;34m\u001b[0m\u001b[0m\n\u001b[0;32m--> 154\u001b[0;31m                 \u001b[0;32mreturn\u001b[0m \u001b[0mfunc\u001b[0m\u001b[0;34m(\u001b[0m\u001b[0;34m*\u001b[0m\u001b[0margs\u001b[0m\u001b[0;34m,\u001b[0m \u001b[0;34m**\u001b[0m\u001b[0mkwargs\u001b[0m\u001b[0;34m)\u001b[0m\u001b[0;34m\u001b[0m\u001b[0;34m\u001b[0m\u001b[0m\n\u001b[0m\u001b[1;32m    155\u001b[0m \u001b[0;34m\u001b[0m\u001b[0m\n\u001b[1;32m    156\u001b[0m         \u001b[0;32mreturn\u001b[0m \u001b[0mmaybe_fallback\u001b[0m\u001b[0;34m\u001b[0m\u001b[0;34m\u001b[0m\u001b[0m\n",
            "\u001b[0;32m/usr/local/lib/python3.10/dist-packages/torch/optim/adam.py\u001b[0m in \u001b[0;36madam\u001b[0;34m(params, grads, exp_avgs, exp_avg_sqs, max_exp_avg_sqs, state_steps, foreach, capturable, differentiable, fused, grad_scale, found_inf, has_complex, amsgrad, beta1, beta2, lr, weight_decay, eps, maximize)\u001b[0m\n\u001b[1;32m    782\u001b[0m         \u001b[0mfunc\u001b[0m \u001b[0;34m=\u001b[0m \u001b[0m_single_tensor_adam\u001b[0m\u001b[0;34m\u001b[0m\u001b[0;34m\u001b[0m\u001b[0m\n\u001b[1;32m    783\u001b[0m \u001b[0;34m\u001b[0m\u001b[0m\n\u001b[0;32m--> 784\u001b[0;31m     func(\n\u001b[0m\u001b[1;32m    785\u001b[0m         \u001b[0mparams\u001b[0m\u001b[0;34m,\u001b[0m\u001b[0;34m\u001b[0m\u001b[0;34m\u001b[0m\u001b[0m\n\u001b[1;32m    786\u001b[0m         \u001b[0mgrads\u001b[0m\u001b[0;34m,\u001b[0m\u001b[0;34m\u001b[0m\u001b[0;34m\u001b[0m\u001b[0m\n",
            "\u001b[0;32m/usr/local/lib/python3.10/dist-packages/torch/optim/adam.py\u001b[0m in \u001b[0;36m_single_tensor_adam\u001b[0;34m(params, grads, exp_avgs, exp_avg_sqs, max_exp_avg_sqs, state_steps, grad_scale, found_inf, amsgrad, has_complex, beta1, beta2, lr, weight_decay, eps, maximize, capturable, differentiable)\u001b[0m\n\u001b[1;32m    376\u001b[0m \u001b[0;34m\u001b[0m\u001b[0m\n\u001b[1;32m    377\u001b[0m         \u001b[0;31m# Decay the first and second moment running average coefficient\u001b[0m\u001b[0;34m\u001b[0m\u001b[0;34m\u001b[0m\u001b[0m\n\u001b[0;32m--> 378\u001b[0;31m         \u001b[0mexp_avg\u001b[0m\u001b[0;34m.\u001b[0m\u001b[0mlerp_\u001b[0m\u001b[0;34m(\u001b[0m\u001b[0mgrad\u001b[0m\u001b[0;34m,\u001b[0m \u001b[0;36m1\u001b[0m \u001b[0;34m-\u001b[0m \u001b[0mbeta1\u001b[0m\u001b[0;34m)\u001b[0m\u001b[0;34m\u001b[0m\u001b[0;34m\u001b[0m\u001b[0m\n\u001b[0m\u001b[1;32m    379\u001b[0m         \u001b[0mexp_avg_sq\u001b[0m\u001b[0;34m.\u001b[0m\u001b[0mmul_\u001b[0m\u001b[0;34m(\u001b[0m\u001b[0mbeta2\u001b[0m\u001b[0;34m)\u001b[0m\u001b[0;34m.\u001b[0m\u001b[0maddcmul_\u001b[0m\u001b[0;34m(\u001b[0m\u001b[0mgrad\u001b[0m\u001b[0;34m,\u001b[0m \u001b[0mgrad\u001b[0m\u001b[0;34m.\u001b[0m\u001b[0mconj\u001b[0m\u001b[0;34m(\u001b[0m\u001b[0;34m)\u001b[0m\u001b[0;34m,\u001b[0m \u001b[0mvalue\u001b[0m\u001b[0;34m=\u001b[0m\u001b[0;36m1\u001b[0m \u001b[0;34m-\u001b[0m \u001b[0mbeta2\u001b[0m\u001b[0;34m)\u001b[0m\u001b[0;34m\u001b[0m\u001b[0;34m\u001b[0m\u001b[0m\n\u001b[1;32m    380\u001b[0m \u001b[0;34m\u001b[0m\u001b[0m\n",
            "\u001b[0;31mKeyboardInterrupt\u001b[0m: "
          ]
        }
      ]
    },
    {
      "cell_type": "markdown",
      "source": [
        "#### Validation"
      ],
      "metadata": {
        "id": "aTiLQrFt67ly"
      }
    }
  ]
}